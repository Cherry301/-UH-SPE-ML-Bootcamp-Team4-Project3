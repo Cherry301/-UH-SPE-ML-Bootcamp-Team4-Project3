{
  "nbformat": 4,
  "nbformat_minor": 0,
  "metadata": {
    "colab": {
      "name": "Project 3",
      "provenance": [],
      "collapsed_sections": []
    },
    "kernelspec": {
      "name": "python3",
      "display_name": "Python 3"
    }
  },
  "cells": [
    {
      "cell_type": "code",
      "metadata": {
        "id": "sKI4BbRHLFTQ",
        "colab_type": "code",
        "colab": {
          "base_uri": "https://localhost:8080/",
          "height": 72
        },
        "outputId": "2bb59c57-d24f-47e3-8465-5d7b97ef751a"
      },
      "source": [
        " # Goal is to predict which hosts would be successful in getting customers/hosts through Airbnb (online marketplace)\n",
        "import pandas as pd\n",
        "import numpy as np\n",
        "import matplotlib.pyplot as plt\n",
        "import seaborn as sns\n",
        "from sklearn.model_selection import train_test_split\n",
        "import keras\n",
        "from scipy.stats import zscore\n",
        "%matplotlib inline"
      ],
      "execution_count": 1,
      "outputs": [
        {
          "output_type": "stream",
          "text": [
            "/usr/local/lib/python3.6/dist-packages/statsmodels/tools/_testing.py:19: FutureWarning: pandas.util.testing is deprecated. Use the functions in the public API at pandas.testing instead.\n",
            "  import pandas.util.testing as tm\n"
          ],
          "name": "stderr"
        }
      ]
    },
    {
      "cell_type": "code",
      "metadata": {
        "id": "_rvgb-OmZ3d_",
        "colab_type": "code",
        "colab": {}
      },
      "source": [
        "# from google.colab import files\n",
        "# uploaded = files.upload()\n",
        "path = 'https://raw.githubusercontent.com/Cherry301/-UH-SPE-ML-Bootcamp-Team4-Project3/master/AB_NYC_2019.csv'\n",
        "df = pd.read_csv(path)"
      ],
      "execution_count": 2,
      "outputs": []
    },
    {
      "cell_type": "code",
      "metadata": {
        "id": "b07QIReCcHhT",
        "colab_type": "code",
        "colab": {
          "base_uri": "https://localhost:8080/",
          "height": 413
        },
        "outputId": "b460a848-9661-46f4-9f4a-b46355d20b40"
      },
      "source": [
        "df.head()"
      ],
      "execution_count": 3,
      "outputs": [
        {
          "output_type": "execute_result",
          "data": {
            "text/html": [
              "<div>\n",
              "<style scoped>\n",
              "    .dataframe tbody tr th:only-of-type {\n",
              "        vertical-align: middle;\n",
              "    }\n",
              "\n",
              "    .dataframe tbody tr th {\n",
              "        vertical-align: top;\n",
              "    }\n",
              "\n",
              "    .dataframe thead th {\n",
              "        text-align: right;\n",
              "    }\n",
              "</style>\n",
              "<table border=\"1\" class=\"dataframe\">\n",
              "  <thead>\n",
              "    <tr style=\"text-align: right;\">\n",
              "      <th></th>\n",
              "      <th>id</th>\n",
              "      <th>name</th>\n",
              "      <th>host_id</th>\n",
              "      <th>host_name</th>\n",
              "      <th>neighbourhood_group</th>\n",
              "      <th>neighbourhood</th>\n",
              "      <th>latitude</th>\n",
              "      <th>longitude</th>\n",
              "      <th>room_type</th>\n",
              "      <th>price</th>\n",
              "      <th>minimum_nights</th>\n",
              "      <th>number_of_reviews</th>\n",
              "      <th>last_review</th>\n",
              "      <th>reviews_per_month</th>\n",
              "      <th>calculated_host_listings_count</th>\n",
              "      <th>availability_365</th>\n",
              "    </tr>\n",
              "  </thead>\n",
              "  <tbody>\n",
              "    <tr>\n",
              "      <th>0</th>\n",
              "      <td>2539</td>\n",
              "      <td>Clean &amp; quiet apt home by the park</td>\n",
              "      <td>2787</td>\n",
              "      <td>John</td>\n",
              "      <td>Brooklyn</td>\n",
              "      <td>Kensington</td>\n",
              "      <td>40.64749</td>\n",
              "      <td>-73.97237</td>\n",
              "      <td>Private room</td>\n",
              "      <td>149</td>\n",
              "      <td>1</td>\n",
              "      <td>9</td>\n",
              "      <td>2018-10-19</td>\n",
              "      <td>0.21</td>\n",
              "      <td>6</td>\n",
              "      <td>365</td>\n",
              "    </tr>\n",
              "    <tr>\n",
              "      <th>1</th>\n",
              "      <td>2595</td>\n",
              "      <td>Skylit Midtown Castle</td>\n",
              "      <td>2845</td>\n",
              "      <td>Jennifer</td>\n",
              "      <td>Manhattan</td>\n",
              "      <td>Midtown</td>\n",
              "      <td>40.75362</td>\n",
              "      <td>-73.98377</td>\n",
              "      <td>Entire home/apt</td>\n",
              "      <td>225</td>\n",
              "      <td>1</td>\n",
              "      <td>45</td>\n",
              "      <td>2019-05-21</td>\n",
              "      <td>0.38</td>\n",
              "      <td>2</td>\n",
              "      <td>355</td>\n",
              "    </tr>\n",
              "    <tr>\n",
              "      <th>2</th>\n",
              "      <td>3647</td>\n",
              "      <td>THE VILLAGE OF HARLEM....NEW YORK !</td>\n",
              "      <td>4632</td>\n",
              "      <td>Elisabeth</td>\n",
              "      <td>Manhattan</td>\n",
              "      <td>Harlem</td>\n",
              "      <td>40.80902</td>\n",
              "      <td>-73.94190</td>\n",
              "      <td>Private room</td>\n",
              "      <td>150</td>\n",
              "      <td>3</td>\n",
              "      <td>0</td>\n",
              "      <td>NaN</td>\n",
              "      <td>NaN</td>\n",
              "      <td>1</td>\n",
              "      <td>365</td>\n",
              "    </tr>\n",
              "    <tr>\n",
              "      <th>3</th>\n",
              "      <td>3831</td>\n",
              "      <td>Cozy Entire Floor of Brownstone</td>\n",
              "      <td>4869</td>\n",
              "      <td>LisaRoxanne</td>\n",
              "      <td>Brooklyn</td>\n",
              "      <td>Clinton Hill</td>\n",
              "      <td>40.68514</td>\n",
              "      <td>-73.95976</td>\n",
              "      <td>Entire home/apt</td>\n",
              "      <td>89</td>\n",
              "      <td>1</td>\n",
              "      <td>270</td>\n",
              "      <td>2019-07-05</td>\n",
              "      <td>4.64</td>\n",
              "      <td>1</td>\n",
              "      <td>194</td>\n",
              "    </tr>\n",
              "    <tr>\n",
              "      <th>4</th>\n",
              "      <td>5022</td>\n",
              "      <td>Entire Apt: Spacious Studio/Loft by central park</td>\n",
              "      <td>7192</td>\n",
              "      <td>Laura</td>\n",
              "      <td>Manhattan</td>\n",
              "      <td>East Harlem</td>\n",
              "      <td>40.79851</td>\n",
              "      <td>-73.94399</td>\n",
              "      <td>Entire home/apt</td>\n",
              "      <td>80</td>\n",
              "      <td>10</td>\n",
              "      <td>9</td>\n",
              "      <td>2018-11-19</td>\n",
              "      <td>0.10</td>\n",
              "      <td>1</td>\n",
              "      <td>0</td>\n",
              "    </tr>\n",
              "  </tbody>\n",
              "</table>\n",
              "</div>"
            ],
            "text/plain": [
              "     id  ... availability_365\n",
              "0  2539  ...              365\n",
              "1  2595  ...              355\n",
              "2  3647  ...              365\n",
              "3  3831  ...              194\n",
              "4  5022  ...                0\n",
              "\n",
              "[5 rows x 16 columns]"
            ]
          },
          "metadata": {
            "tags": []
          },
          "execution_count": 3
        }
      ]
    },
    {
      "cell_type": "code",
      "metadata": {
        "id": "sL_kg2H2cJF3",
        "colab_type": "code",
        "colab": {
          "base_uri": "https://localhost:8080/",
          "height": 121
        },
        "outputId": "30371d84-23b2-4b70-efac-01688207483e"
      },
      "source": [
        "df.columns"
      ],
      "execution_count": 4,
      "outputs": [
        {
          "output_type": "execute_result",
          "data": {
            "text/plain": [
              "Index(['id', 'name', 'host_id', 'host_name', 'neighbourhood_group',\n",
              "       'neighbourhood', 'latitude', 'longitude', 'room_type', 'price',\n",
              "       'minimum_nights', 'number_of_reviews', 'last_review',\n",
              "       'reviews_per_month', 'calculated_host_listings_count',\n",
              "       'availability_365'],\n",
              "      dtype='object')"
            ]
          },
          "metadata": {
            "tags": []
          },
          "execution_count": 4
        }
      ]
    },
    {
      "cell_type": "code",
      "metadata": {
        "id": "EscTQ7hmKjnL",
        "colab_type": "code",
        "colab": {
          "base_uri": "https://localhost:8080/",
          "height": 314
        },
        "outputId": "abb732e4-27ae-4a0a-b8b1-ec7bbaf9b91d"
      },
      "source": [
        "df.describe()"
      ],
      "execution_count": 5,
      "outputs": [
        {
          "output_type": "execute_result",
          "data": {
            "text/html": [
              "<div>\n",
              "<style scoped>\n",
              "    .dataframe tbody tr th:only-of-type {\n",
              "        vertical-align: middle;\n",
              "    }\n",
              "\n",
              "    .dataframe tbody tr th {\n",
              "        vertical-align: top;\n",
              "    }\n",
              "\n",
              "    .dataframe thead th {\n",
              "        text-align: right;\n",
              "    }\n",
              "</style>\n",
              "<table border=\"1\" class=\"dataframe\">\n",
              "  <thead>\n",
              "    <tr style=\"text-align: right;\">\n",
              "      <th></th>\n",
              "      <th>id</th>\n",
              "      <th>host_id</th>\n",
              "      <th>latitude</th>\n",
              "      <th>longitude</th>\n",
              "      <th>price</th>\n",
              "      <th>minimum_nights</th>\n",
              "      <th>number_of_reviews</th>\n",
              "      <th>reviews_per_month</th>\n",
              "      <th>calculated_host_listings_count</th>\n",
              "      <th>availability_365</th>\n",
              "    </tr>\n",
              "  </thead>\n",
              "  <tbody>\n",
              "    <tr>\n",
              "      <th>count</th>\n",
              "      <td>4.889500e+04</td>\n",
              "      <td>4.889500e+04</td>\n",
              "      <td>48895.000000</td>\n",
              "      <td>48895.000000</td>\n",
              "      <td>48895.000000</td>\n",
              "      <td>48895.000000</td>\n",
              "      <td>48895.000000</td>\n",
              "      <td>38843.000000</td>\n",
              "      <td>48895.000000</td>\n",
              "      <td>48895.000000</td>\n",
              "    </tr>\n",
              "    <tr>\n",
              "      <th>mean</th>\n",
              "      <td>1.901714e+07</td>\n",
              "      <td>6.762001e+07</td>\n",
              "      <td>40.728949</td>\n",
              "      <td>-73.952170</td>\n",
              "      <td>152.720687</td>\n",
              "      <td>7.029962</td>\n",
              "      <td>23.274466</td>\n",
              "      <td>1.373221</td>\n",
              "      <td>7.143982</td>\n",
              "      <td>112.781327</td>\n",
              "    </tr>\n",
              "    <tr>\n",
              "      <th>std</th>\n",
              "      <td>1.098311e+07</td>\n",
              "      <td>7.861097e+07</td>\n",
              "      <td>0.054530</td>\n",
              "      <td>0.046157</td>\n",
              "      <td>240.154170</td>\n",
              "      <td>20.510550</td>\n",
              "      <td>44.550582</td>\n",
              "      <td>1.680442</td>\n",
              "      <td>32.952519</td>\n",
              "      <td>131.622289</td>\n",
              "    </tr>\n",
              "    <tr>\n",
              "      <th>min</th>\n",
              "      <td>2.539000e+03</td>\n",
              "      <td>2.438000e+03</td>\n",
              "      <td>40.499790</td>\n",
              "      <td>-74.244420</td>\n",
              "      <td>0.000000</td>\n",
              "      <td>1.000000</td>\n",
              "      <td>0.000000</td>\n",
              "      <td>0.010000</td>\n",
              "      <td>1.000000</td>\n",
              "      <td>0.000000</td>\n",
              "    </tr>\n",
              "    <tr>\n",
              "      <th>25%</th>\n",
              "      <td>9.471945e+06</td>\n",
              "      <td>7.822033e+06</td>\n",
              "      <td>40.690100</td>\n",
              "      <td>-73.983070</td>\n",
              "      <td>69.000000</td>\n",
              "      <td>1.000000</td>\n",
              "      <td>1.000000</td>\n",
              "      <td>0.190000</td>\n",
              "      <td>1.000000</td>\n",
              "      <td>0.000000</td>\n",
              "    </tr>\n",
              "    <tr>\n",
              "      <th>50%</th>\n",
              "      <td>1.967728e+07</td>\n",
              "      <td>3.079382e+07</td>\n",
              "      <td>40.723070</td>\n",
              "      <td>-73.955680</td>\n",
              "      <td>106.000000</td>\n",
              "      <td>3.000000</td>\n",
              "      <td>5.000000</td>\n",
              "      <td>0.720000</td>\n",
              "      <td>1.000000</td>\n",
              "      <td>45.000000</td>\n",
              "    </tr>\n",
              "    <tr>\n",
              "      <th>75%</th>\n",
              "      <td>2.915218e+07</td>\n",
              "      <td>1.074344e+08</td>\n",
              "      <td>40.763115</td>\n",
              "      <td>-73.936275</td>\n",
              "      <td>175.000000</td>\n",
              "      <td>5.000000</td>\n",
              "      <td>24.000000</td>\n",
              "      <td>2.020000</td>\n",
              "      <td>2.000000</td>\n",
              "      <td>227.000000</td>\n",
              "    </tr>\n",
              "    <tr>\n",
              "      <th>max</th>\n",
              "      <td>3.648724e+07</td>\n",
              "      <td>2.743213e+08</td>\n",
              "      <td>40.913060</td>\n",
              "      <td>-73.712990</td>\n",
              "      <td>10000.000000</td>\n",
              "      <td>1250.000000</td>\n",
              "      <td>629.000000</td>\n",
              "      <td>58.500000</td>\n",
              "      <td>327.000000</td>\n",
              "      <td>365.000000</td>\n",
              "    </tr>\n",
              "  </tbody>\n",
              "</table>\n",
              "</div>"
            ],
            "text/plain": [
              "                 id  ...  availability_365\n",
              "count  4.889500e+04  ...      48895.000000\n",
              "mean   1.901714e+07  ...        112.781327\n",
              "std    1.098311e+07  ...        131.622289\n",
              "min    2.539000e+03  ...          0.000000\n",
              "25%    9.471945e+06  ...          0.000000\n",
              "50%    1.967728e+07  ...         45.000000\n",
              "75%    2.915218e+07  ...        227.000000\n",
              "max    3.648724e+07  ...        365.000000\n",
              "\n",
              "[8 rows x 10 columns]"
            ]
          },
          "metadata": {
            "tags": []
          },
          "execution_count": 5
        }
      ]
    },
    {
      "cell_type": "code",
      "metadata": {
        "id": "M0CtKsnBcP_E",
        "colab_type": "code",
        "colab": {
          "base_uri": "https://localhost:8080/",
          "height": 329
        },
        "outputId": "56de1a98-afe1-44dd-efff-dd36f3a087f9"
      },
      "source": [
        "print(df.shape)\n",
        "print(df.dtypes)"
      ],
      "execution_count": 6,
      "outputs": [
        {
          "output_type": "stream",
          "text": [
            "(48895, 16)\n",
            "id                                  int64\n",
            "name                               object\n",
            "host_id                             int64\n",
            "host_name                          object\n",
            "neighbourhood_group                object\n",
            "neighbourhood                      object\n",
            "latitude                          float64\n",
            "longitude                         float64\n",
            "room_type                          object\n",
            "price                               int64\n",
            "minimum_nights                      int64\n",
            "number_of_reviews                   int64\n",
            "last_review                        object\n",
            "reviews_per_month                 float64\n",
            "calculated_host_listings_count      int64\n",
            "availability_365                    int64\n",
            "dtype: object\n"
          ],
          "name": "stdout"
        }
      ]
    },
    {
      "cell_type": "code",
      "metadata": {
        "id": "lyw6Z74_ej2c",
        "colab_type": "code",
        "colab": {
          "base_uri": "https://localhost:8080/",
          "height": 312
        },
        "outputId": "3e9ed4a5-9a04-48cd-eb98-5e5ead10c2c4"
      },
      "source": [
        "df.isna().sum()"
      ],
      "execution_count": 7,
      "outputs": [
        {
          "output_type": "execute_result",
          "data": {
            "text/plain": [
              "id                                    0\n",
              "name                                 16\n",
              "host_id                               0\n",
              "host_name                            21\n",
              "neighbourhood_group                   0\n",
              "neighbourhood                         0\n",
              "latitude                              0\n",
              "longitude                             0\n",
              "room_type                             0\n",
              "price                                 0\n",
              "minimum_nights                        0\n",
              "number_of_reviews                     0\n",
              "last_review                       10052\n",
              "reviews_per_month                 10052\n",
              "calculated_host_listings_count        0\n",
              "availability_365                      0\n",
              "dtype: int64"
            ]
          },
          "metadata": {
            "tags": []
          },
          "execution_count": 7
        }
      ]
    },
    {
      "cell_type": "code",
      "metadata": {
        "id": "VVVNKtMwep5C",
        "colab_type": "code",
        "colab": {
          "base_uri": "https://localhost:8080/",
          "height": 35
        },
        "outputId": "be4dde83-d5c9-4ab4-c63c-abddf9191db7"
      },
      "source": [
        "df = df.dropna()\n",
        "print(df.shape)"
      ],
      "execution_count": 8,
      "outputs": [
        {
          "output_type": "stream",
          "text": [
            "(38821, 16)\n"
          ],
          "name": "stdout"
        }
      ]
    },
    {
      "cell_type": "code",
      "metadata": {
        "id": "gPiNnqj9JMZW",
        "colab_type": "code",
        "colab": {
          "base_uri": "https://localhost:8080/",
          "height": 312
        },
        "outputId": "dfa10f14-6a17-458b-997a-8088c014813c"
      },
      "source": [
        "# verify that there are no nan values in df\n",
        "df.isna().sum()"
      ],
      "execution_count": 9,
      "outputs": [
        {
          "output_type": "execute_result",
          "data": {
            "text/plain": [
              "id                                0\n",
              "name                              0\n",
              "host_id                           0\n",
              "host_name                         0\n",
              "neighbourhood_group               0\n",
              "neighbourhood                     0\n",
              "latitude                          0\n",
              "longitude                         0\n",
              "room_type                         0\n",
              "price                             0\n",
              "minimum_nights                    0\n",
              "number_of_reviews                 0\n",
              "last_review                       0\n",
              "reviews_per_month                 0\n",
              "calculated_host_listings_count    0\n",
              "availability_365                  0\n",
              "dtype: int64"
            ]
          },
          "metadata": {
            "tags": []
          },
          "execution_count": 9
        }
      ]
    },
    {
      "cell_type": "code",
      "metadata": {
        "id": "ttEzV3HbFAge",
        "colab_type": "code",
        "colab": {
          "base_uri": "https://localhost:8080/",
          "height": 312
        },
        "outputId": "f4473bbd-3585-4ddb-f10a-5c4bc9faaf68"
      },
      "source": [
        "df.nunique()"
      ],
      "execution_count": 10,
      "outputs": [
        {
          "output_type": "execute_result",
          "data": {
            "text/plain": [
              "id                                38821\n",
              "name                              38253\n",
              "host_id                           30232\n",
              "host_name                          9885\n",
              "neighbourhood_group                   5\n",
              "neighbourhood                       218\n",
              "latitude                          17436\n",
              "longitude                         13639\n",
              "room_type                             3\n",
              "price                               581\n",
              "minimum_nights                       89\n",
              "number_of_reviews                   393\n",
              "last_review                        1764\n",
              "reviews_per_month                   937\n",
              "calculated_host_listings_count       47\n",
              "availability_365                    366\n",
              "dtype: int64"
            ]
          },
          "metadata": {
            "tags": []
          },
          "execution_count": 10
        }
      ]
    },
    {
      "cell_type": "code",
      "metadata": {
        "id": "rRVSnj2iGOMm",
        "colab_type": "code",
        "colab": {
          "base_uri": "https://localhost:8080/",
          "height": 297
        },
        "outputId": "843bec2e-0a11-4452-858e-d39981a46982"
      },
      "source": [
        "# counts how many times the unique values of the \"neighborhood_group\" column show up using seaborn\n",
        "sns.countplot(x= 'neighbourhood_group', data= df)"
      ],
      "execution_count": 11,
      "outputs": [
        {
          "output_type": "execute_result",
          "data": {
            "text/plain": [
              "<matplotlib.axes._subplots.AxesSubplot at 0x7f84da771da0>"
            ]
          },
          "metadata": {
            "tags": []
          },
          "execution_count": 11
        },
        {
          "output_type": "display_data",
          "data": {
            "image/png": "[encoded data removed]",
            "text/plain": [
              "<Figure size 432x288 with 1 Axes>"
            ]
          },
          "metadata": {
            "tags": [],
            "needs_background": "light"
          }
        }
      ]
    },
    {
      "cell_type": "markdown",
      "metadata": {
        "id": "_ie-CGQjV44z",
        "colab_type": "text"
      },
      "source": [
        "Seems to be a lot of available space for Airbnb accommodations in the neighborhoods of **Brooklyn** and **Manhattan** "
      ]
    },
    {
      "cell_type": "code",
      "metadata": {
        "id": "z9leEwUAJamL",
        "colab_type": "code",
        "colab": {
          "base_uri": "https://localhost:8080/",
          "height": 297
        },
        "outputId": "15f80461-e287-426e-f3ce-d3f0960b0197"
      },
      "source": [
        "# shows the prices of airbnb in the \"neighborhood_group\"\n",
        "sns.barplot(x= 'neighbourhood_group', y= 'price', data= df)"
      ],
      "execution_count": 12,
      "outputs": [
        {
          "output_type": "execute_result",
          "data": {
            "text/plain": [
              "<matplotlib.axes._subplots.AxesSubplot at 0x7f84da771d68>"
            ]
          },
          "metadata": {
            "tags": []
          },
          "execution_count": 12
        },
        {
          "output_type": "display_data",
          "data": {
            "image/png": "[encoded data removed]",
            "text/plain": [
              "<Figure size 432x288 with 1 Axes>"
            ]
          },
          "metadata": {
            "tags": [],
            "needs_background": "light"
          }
        }
      ]
    },
    {
      "cell_type": "markdown",
      "metadata": {
        "id": "O2ufPh21Wiua",
        "colab_type": "text"
      },
      "source": [
        "The Airbnb have the highest prices in **Manhattan**, assuming people are willing to pay more for Manhattan Airbnb"
      ]
    },
    {
      "cell_type": "code",
      "metadata": {
        "colab_type": "code",
        "id": "65FNnZDSFOwP",
        "colab": {
          "base_uri": "https://localhost:8080/",
          "height": 297
        },
        "outputId": "45275386-cceb-458f-c4ab-1ae25d525754"
      },
      "source": [
        "sns.barplot(x= 'room_type', y= 'price', data= df)"
      ],
      "execution_count": 13,
      "outputs": [
        {
          "output_type": "execute_result",
          "data": {
            "text/plain": [
              "<matplotlib.axes._subplots.AxesSubplot at 0x7f84dac47470>"
            ]
          },
          "metadata": {
            "tags": []
          },
          "execution_count": 13
        },
        {
          "output_type": "display_data",
          "data": {
            "image/png": "[encoded data removed]",
            "text/plain": [
              "<Figure size 432x288 with 1 Axes>"
            ]
          },
          "metadata": {
            "tags": [],
            "needs_background": "light"
          }
        }
      ]
    },
    {
      "cell_type": "markdown",
      "metadata": {
        "id": "FDYnXYe0XB2U",
        "colab_type": "text"
      },
      "source": [
        "People are willing to pay more money for accommadations that are **Entire home/apt room_type**"
      ]
    },
    {
      "cell_type": "code",
      "metadata": {
        "id": "zUuaguUNEDYJ",
        "colab_type": "code",
        "colab": {
          "base_uri": "https://localhost:8080/",
          "height": 297
        },
        "outputId": "ca5d81f0-8ce3-4b00-a3b9-1a908a0e2d78"
      },
      "source": [
        "# seems to not correlate between number of reviews and price\n",
        "sns.scatterplot(x= 'number_of_reviews', y= 'price', data= df, hue= 'neighbourhood_group')"
      ],
      "execution_count": 14,
      "outputs": [
        {
          "output_type": "execute_result",
          "data": {
            "text/plain": [
              "<matplotlib.axes._subplots.AxesSubplot at 0x7f84dac08f60>"
            ]
          },
          "metadata": {
            "tags": []
          },
          "execution_count": 14
        },
        {
          "output_type": "display_data",
          "data": {
            "image/png": "[encoded data removed]",
            "text/plain": [
              "<Figure size 432x288 with 1 Axes>"
            ]
          },
          "metadata": {
            "tags": [],
            "needs_background": "light"
          }
        }
      ]
    },
    {
      "cell_type": "code",
      "metadata": {
        "colab_type": "code",
        "id": "AXOkaRh0FkFa",
        "colab": {
          "base_uri": "https://localhost:8080/",
          "height": 297
        },
        "outputId": "055db13b-e207-4097-f24b-6c5b44efb14c"
      },
      "source": [
        "# seems to not correlate between reviews per month and price, ex. Queens had 20 reviews per month at zero price\n",
        "sns.scatterplot(x= 'reviews_per_month', y= 'price', data= df, hue= 'neighbourhood_group')"
      ],
      "execution_count": 15,
      "outputs": [
        {
          "output_type": "execute_result",
          "data": {
            "text/plain": [
              "<matplotlib.axes._subplots.AxesSubplot at 0x7f84daa790f0>"
            ]
          },
          "metadata": {
            "tags": []
          },
          "execution_count": 15
        },
        {
          "output_type": "display_data",
          "data": {
            "image/png": "[encoded data removed]",
            "text/plain": [
              "<Figure size 432x288 with 1 Axes>"
            ]
          },
          "metadata": {
            "tags": [],
            "needs_background": "light"
          }
        }
      ]
    },
    {
      "cell_type": "code",
      "metadata": {
        "id": "p6jukCkOEq_m",
        "colab_type": "code",
        "colab": {
          "base_uri": "https://localhost:8080/",
          "height": 297
        },
        "outputId": "fc31cdbd-14be-4283-94ae-4b82d40d60a4"
      },
      "source": [
        "sns.scatterplot(x= 'minimum_nights', y= 'price', data= df, hue= 'neighbourhood_group')"
      ],
      "execution_count": 16,
      "outputs": [
        {
          "output_type": "execute_result",
          "data": {
            "text/plain": [
              "<matplotlib.axes._subplots.AxesSubplot at 0x7f84dab0b080>"
            ]
          },
          "metadata": {
            "tags": []
          },
          "execution_count": 16
        },
        {
          "output_type": "display_data",
          "data": {
            "image/png": "[encoded data removed]",
            "text/plain": [
              "<Figure size 432x288 with 1 Axes>"
            ]
          },
          "metadata": {
            "tags": [],
            "needs_background": "light"
          }
        }
      ]
    },
    {
      "cell_type": "code",
      "metadata": {
        "colab_type": "code",
        "id": "ig4px9LfF1VW",
        "colab": {
          "base_uri": "https://localhost:8080/",
          "height": 297
        },
        "outputId": "1aa47c19-ab29-4902-f17d-9307661c9ee7"
      },
      "source": [
        "sns.scatterplot(x= 'calculated_host_listings_count', y= 'price', data= df, hue= 'neighbourhood_group')"
      ],
      "execution_count": 17,
      "outputs": [
        {
          "output_type": "execute_result",
          "data": {
            "text/plain": [
              "<matplotlib.axes._subplots.AxesSubplot at 0x7f84da805e48>"
            ]
          },
          "metadata": {
            "tags": []
          },
          "execution_count": 17
        },
        {
          "output_type": "display_data",
          "data": {
            "image/png": "[encoded data removed]",
            "text/plain": [
              "<Figure size 432x288 with 1 Axes>"
            ]
          },
          "metadata": {
            "tags": [],
            "needs_background": "light"
          }
        }
      ]
    },
    {
      "cell_type": "code",
      "metadata": {
        "colab_type": "code",
        "id": "GFfnmEwJF7oi",
        "colab": {
          "base_uri": "https://localhost:8080/",
          "height": 297
        },
        "outputId": "278b975b-e747-4feb-cfb5-1f5c3f41aaa6"
      },
      "source": [
        "sns.scatterplot(x= 'availability_365', y= 'price', data= df, hue= 'neighbourhood_group')"
      ],
      "execution_count": 18,
      "outputs": [
        {
          "output_type": "execute_result",
          "data": {
            "text/plain": [
              "<matplotlib.axes._subplots.AxesSubplot at 0x7f84da4666d8>"
            ]
          },
          "metadata": {
            "tags": []
          },
          "execution_count": 18
        },
        {
          "output_type": "display_data",
          "data": {
            "image/png": "[encoded data removed]",
            "text/plain": [
              "<Figure size 432x288 with 1 Axes>"
            ]
          },
          "metadata": {
            "tags": [],
            "needs_background": "light"
          }
        }
      ]
    },
    {
      "cell_type": "markdown",
      "metadata": {
        "id": "8fNyehmtRdLx",
        "colab_type": "text"
      },
      "source": [
        "# Preparing the data for analysis"
      ]
    },
    {
      "cell_type": "markdown",
      "metadata": {
        "id": "9nFWNTupOumb",
        "colab_type": "text"
      },
      "source": [
        "Converting 'last_review' variable into days since last review from a given date (today)"
      ]
    },
    {
      "cell_type": "code",
      "metadata": {
        "id": "yMDY_XmzO6AP",
        "colab_type": "code",
        "colab": {}
      },
      "source": [
        "def days_from_today(date_string, today_string = '2020-08-28'):\n",
        "  import datetime\n",
        "  if type(date_string) == str:\n",
        "    date_obj = datetime.datetime.strptime(date_string, '%Y-%m-%d')\n",
        "    today_obj = datetime.datetime.strptime(today_string, '%Y-%m-%d')\n",
        "    d = today_obj - date_obj\n",
        "    return int(d.days)\n",
        "  else:\n",
        "    return None"
      ],
      "execution_count": 19,
      "outputs": []
    },
    {
      "cell_type": "code",
      "metadata": {
        "id": "k-ofteNrQc4j",
        "colab_type": "code",
        "colab": {}
      },
      "source": [
        "df['Days_since_last_review'] = df['last_review'].map(days_from_today)\n"
      ],
      "execution_count": 20,
      "outputs": []
    },
    {
      "cell_type": "markdown",
      "metadata": {
        "id": "y-TElP1nJIn2",
        "colab_type": "text"
      },
      "source": [
        "Removing columns that are not expected to be a factor in pricing: 'id', 'name', 'host_id', 'host_name', 'latitude', 'longitude', 'last_review'"
      ]
    },
    {
      "cell_type": "code",
      "metadata": {
        "id": "9MtWtm8mJHB6",
        "colab_type": "code",
        "colab": {}
      },
      "source": [
        "df_red = df.drop(['id', 'name', 'host_id', 'host_name', 'latitude', 'longitude', 'last_review'], axis = 1)"
      ],
      "execution_count": 21,
      "outputs": []
    },
    {
      "cell_type": "code",
      "metadata": {
        "id": "fKejkjwCKK1a",
        "colab_type": "code",
        "colab": {
          "base_uri": "https://localhost:8080/",
          "height": 208
        },
        "outputId": "870b968b-0234-43c0-cd13-679f64157c7a"
      },
      "source": [
        "df_red.isna().sum()"
      ],
      "execution_count": 22,
      "outputs": [
        {
          "output_type": "execute_result",
          "data": {
            "text/plain": [
              "neighbourhood_group               0\n",
              "neighbourhood                     0\n",
              "room_type                         0\n",
              "price                             0\n",
              "minimum_nights                    0\n",
              "number_of_reviews                 0\n",
              "reviews_per_month                 0\n",
              "calculated_host_listings_count    0\n",
              "availability_365                  0\n",
              "Days_since_last_review            0\n",
              "dtype: int64"
            ]
          },
          "metadata": {
            "tags": []
          },
          "execution_count": 22
        }
      ]
    },
    {
      "cell_type": "markdown",
      "metadata": {
        "id": "laL6Ns5p0ZYL",
        "colab_type": "text"
      },
      "source": [
        "Removing outliers in the price variable"
      ]
    },
    {
      "cell_type": "code",
      "metadata": {
        "id": "rYPX5ow_0dhG",
        "colab_type": "code",
        "colab": {}
      },
      "source": [
        "df_red['price_zscore'] = pd.DataFrame(df_red['price']).apply(zscore)"
      ],
      "execution_count": 23,
      "outputs": []
    },
    {
      "cell_type": "code",
      "metadata": {
        "id": "MsKSq7iy5J9F",
        "colab_type": "code",
        "colab": {}
      },
      "source": [
        "df_red = df_red[abs(df_red['price_zscore']) < 2]"
      ],
      "execution_count": 24,
      "outputs": []
    },
    {
      "cell_type": "code",
      "metadata": {
        "id": "TBZp6OrR5zQM",
        "colab_type": "code",
        "colab": {
          "base_uri": "https://localhost:8080/",
          "height": 309
        },
        "outputId": "68354a2a-48b6-43af-c24a-ed00aae67571"
      },
      "source": [
        "df_red.head()"
      ],
      "execution_count": 25,
      "outputs": [
        {
          "output_type": "execute_result",
          "data": {
            "text/html": [
              "<div>\n",
              "<style scoped>\n",
              "    .dataframe tbody tr th:only-of-type {\n",
              "        vertical-align: middle;\n",
              "    }\n",
              "\n",
              "    .dataframe tbody tr th {\n",
              "        vertical-align: top;\n",
              "    }\n",
              "\n",
              "    .dataframe thead th {\n",
              "        text-align: right;\n",
              "    }\n",
              "</style>\n",
              "<table border=\"1\" class=\"dataframe\">\n",
              "  <thead>\n",
              "    <tr style=\"text-align: right;\">\n",
              "      <th></th>\n",
              "      <th>neighbourhood_group</th>\n",
              "      <th>neighbourhood</th>\n",
              "      <th>room_type</th>\n",
              "      <th>price</th>\n",
              "      <th>minimum_nights</th>\n",
              "      <th>number_of_reviews</th>\n",
              "      <th>reviews_per_month</th>\n",
              "      <th>calculated_host_listings_count</th>\n",
              "      <th>availability_365</th>\n",
              "      <th>Days_since_last_review</th>\n",
              "      <th>price_zscore</th>\n",
              "    </tr>\n",
              "  </thead>\n",
              "  <tbody>\n",
              "    <tr>\n",
              "      <th>0</th>\n",
              "      <td>Brooklyn</td>\n",
              "      <td>Kensington</td>\n",
              "      <td>Private room</td>\n",
              "      <td>149</td>\n",
              "      <td>1</td>\n",
              "      <td>9</td>\n",
              "      <td>0.21</td>\n",
              "      <td>6</td>\n",
              "      <td>365</td>\n",
              "      <td>679</td>\n",
              "      <td>0.033846</td>\n",
              "    </tr>\n",
              "    <tr>\n",
              "      <th>1</th>\n",
              "      <td>Manhattan</td>\n",
              "      <td>Midtown</td>\n",
              "      <td>Entire home/apt</td>\n",
              "      <td>225</td>\n",
              "      <td>1</td>\n",
              "      <td>45</td>\n",
              "      <td>0.38</td>\n",
              "      <td>2</td>\n",
              "      <td>355</td>\n",
              "      <td>465</td>\n",
              "      <td>0.419648</td>\n",
              "    </tr>\n",
              "    <tr>\n",
              "      <th>3</th>\n",
              "      <td>Brooklyn</td>\n",
              "      <td>Clinton Hill</td>\n",
              "      <td>Entire home/apt</td>\n",
              "      <td>89</td>\n",
              "      <td>1</td>\n",
              "      <td>270</td>\n",
              "      <td>4.64</td>\n",
              "      <td>1</td>\n",
              "      <td>194</td>\n",
              "      <td>420</td>\n",
              "      <td>-0.270734</td>\n",
              "    </tr>\n",
              "    <tr>\n",
              "      <th>4</th>\n",
              "      <td>Manhattan</td>\n",
              "      <td>East Harlem</td>\n",
              "      <td>Entire home/apt</td>\n",
              "      <td>80</td>\n",
              "      <td>10</td>\n",
              "      <td>9</td>\n",
              "      <td>0.10</td>\n",
              "      <td>1</td>\n",
              "      <td>0</td>\n",
              "      <td>648</td>\n",
              "      <td>-0.316421</td>\n",
              "    </tr>\n",
              "    <tr>\n",
              "      <th>5</th>\n",
              "      <td>Manhattan</td>\n",
              "      <td>Murray Hill</td>\n",
              "      <td>Entire home/apt</td>\n",
              "      <td>200</td>\n",
              "      <td>3</td>\n",
              "      <td>74</td>\n",
              "      <td>0.59</td>\n",
              "      <td>1</td>\n",
              "      <td>129</td>\n",
              "      <td>433</td>\n",
              "      <td>0.292740</td>\n",
              "    </tr>\n",
              "  </tbody>\n",
              "</table>\n",
              "</div>"
            ],
            "text/plain": [
              "  neighbourhood_group neighbourhood  ... Days_since_last_review  price_zscore\n",
              "0            Brooklyn    Kensington  ...                    679      0.033846\n",
              "1           Manhattan       Midtown  ...                    465      0.419648\n",
              "3            Brooklyn  Clinton Hill  ...                    420     -0.270734\n",
              "4           Manhattan   East Harlem  ...                    648     -0.316421\n",
              "5           Manhattan   Murray Hill  ...                    433      0.292740\n",
              "\n",
              "[5 rows x 11 columns]"
            ]
          },
          "metadata": {
            "tags": []
          },
          "execution_count": 25
        }
      ]
    },
    {
      "cell_type": "code",
      "metadata": {
        "id": "DXXfxQA26GHE",
        "colab_type": "code",
        "colab": {}
      },
      "source": [
        "df_red = df_red.drop(['price_zscore'], axis = 1)"
      ],
      "execution_count": 26,
      "outputs": []
    },
    {
      "cell_type": "markdown",
      "metadata": {
        "id": "Aq4YpGnxoMff",
        "colab_type": "text"
      },
      "source": [
        "Splitting the (predictor) data into categorical and numerical data"
      ]
    },
    {
      "cell_type": "code",
      "metadata": {
        "id": "xSv7JIsmoC37",
        "colab_type": "code",
        "colab": {}
      },
      "source": [
        "\n",
        "df_categorical = df_red.drop([ 'price',\n",
        "       'minimum_nights', 'number_of_reviews', 'reviews_per_month',\n",
        "       'calculated_host_listings_count', 'availability_365',\n",
        "       'Days_since_last_review'], axis = 1)"
      ],
      "execution_count": 27,
      "outputs": []
    },
    {
      "cell_type": "code",
      "metadata": {
        "id": "ye5HsX_NoiDY",
        "colab_type": "code",
        "colab": {}
      },
      "source": [
        "df_num = df_red.drop(['neighbourhood_group', 'neighbourhood', 'room_type', 'price',], axis = 1)"
      ],
      "execution_count": 28,
      "outputs": []
    },
    {
      "cell_type": "markdown",
      "metadata": {
        "id": "6yWogGRiowmU",
        "colab_type": "text"
      },
      "source": [
        "Normalizing numerical data"
      ]
    },
    {
      "cell_type": "code",
      "metadata": {
        "id": "-68JcECMouLc",
        "colab_type": "code",
        "colab": {}
      },
      "source": [
        "mean = df_num.mean(axis=0)\n",
        "df_num -= mean\n",
        "std = df_num.std(axis=0)\n",
        "df_num /= std\n",
        "\n",
        "df_num -= mean\n",
        "df_num /= std"
      ],
      "execution_count": 29,
      "outputs": []
    },
    {
      "cell_type": "markdown",
      "metadata": {
        "id": "cfXXn7y3qa-2",
        "colab_type": "text"
      },
      "source": [
        "Dummifying categorical variables"
      ]
    },
    {
      "cell_type": "code",
      "metadata": {
        "id": "kDIs3de9I8Xy",
        "colab_type": "code",
        "colab": {}
      },
      "source": [
        "df_categorical_dum = pd.get_dummies(df_categorical, columns = [ 'neighbourhood_group', 'neighbourhood', 'room_type'])"
      ],
      "execution_count": 30,
      "outputs": []
    },
    {
      "cell_type": "code",
      "metadata": {
        "id": "ISbvd580n8Pg",
        "colab_type": "code",
        "colab": {
          "base_uri": "https://localhost:8080/",
          "height": 35
        },
        "outputId": "c963e66b-45a0-4076-e10a-6ee6e79345c1"
      },
      "source": [
        "df_categorical_dum.shape"
      ],
      "execution_count": 31,
      "outputs": [
        {
          "output_type": "execute_result",
          "data": {
            "text/plain": [
              "(38229, 226)"
            ]
          },
          "metadata": {
            "tags": []
          },
          "execution_count": 31
        }
      ]
    },
    {
      "cell_type": "code",
      "metadata": {
        "id": "ddtiqURTs9Iu",
        "colab_type": "code",
        "colab": {
          "base_uri": "https://localhost:8080/",
          "height": 35
        },
        "outputId": "74d8a793-2271-4c3e-e330-96d33275091e"
      },
      "source": [
        "df_num.shape"
      ],
      "execution_count": 32,
      "outputs": [
        {
          "output_type": "execute_result",
          "data": {
            "text/plain": [
              "(38229, 6)"
            ]
          },
          "metadata": {
            "tags": []
          },
          "execution_count": 32
        }
      ]
    },
    {
      "cell_type": "markdown",
      "metadata": {
        "id": "jY0RtgPbq1mX",
        "colab_type": "text"
      },
      "source": [
        "Finally, concatenating our predictors and assigning y to make our data ready:"
      ]
    },
    {
      "cell_type": "code",
      "metadata": {
        "id": "vNp9aYuurCSz",
        "colab_type": "code",
        "colab": {}
      },
      "source": [
        "X = pd.concat([df_num, df_categorical_dum],axis = 1)\n",
        "y = df_red['price']\n"
      ],
      "execution_count": 33,
      "outputs": []
    },
    {
      "cell_type": "markdown",
      "metadata": {
        "id": "L4Ci9TsCGfRa",
        "colab_type": "text"
      },
      "source": [
        "# Neural network modeling to predict price using Keras library\n"
      ]
    },
    {
      "cell_type": "markdown",
      "metadata": {
        "id": "pM2dacezrQ80",
        "colab_type": "text"
      },
      "source": [
        "Splitting into training and testing datasets"
      ]
    },
    {
      "cell_type": "code",
      "metadata": {
        "id": "EnE2GsLcKI0T",
        "colab_type": "code",
        "colab": {}
      },
      "source": [
        "X_train, X_test, y_train, y_test = train_test_split(X, y, test_size=0.5) # 50% training and 50% test"
      ],
      "execution_count": 34,
      "outputs": []
    },
    {
      "cell_type": "markdown",
      "metadata": {
        "id": "9u7qhw8aSYcC",
        "colab_type": "text"
      },
      "source": [
        "**A first run (base case) of a model with 3 hidden layers and some regularization as well:**"
      ]
    },
    {
      "cell_type": "code",
      "metadata": {
        "id": "hnMUmb5NrkdW",
        "colab_type": "code",
        "colab": {}
      },
      "source": [
        "  from keras import models\n",
        "  from keras import layers\n",
        "  from tensorflow.keras import regularizers\n",
        "  model = models.Sequential()\n",
        "  model.add(layers.Dense(16, activation='relu', input_shape=(X_train.shape[1],)))\n",
        "  model.add(layers.Dense(16, activation='relu',\n",
        "                         kernel_regularizer=regularizers.l1_l2(l1=1e-5, l2=1e-3),\n",
        "                          bias_regularizer=regularizers.l2(1e-3),\n",
        "                          activity_regularizer=regularizers.l2(1e-4)))\n",
        "  model.add(layers.Dense(16, activation='relu',\n",
        "                         kernel_regularizer=regularizers.l1_l2(l1=1e-4, l2=1e-3),\n",
        "                          bias_regularizer=regularizers.l2(1e-3),\n",
        "                          activity_regularizer=regularizers.l2(1e-4))) ##\n",
        "  model.add(layers.Dense(16, activation='relu',\n",
        "                         kernel_regularizer=regularizers.l1_l2(l1=1e-4, l2=1e-3),\n",
        "                          bias_regularizer=regularizers.l2(1e-3),\n",
        "                          activity_regularizer=regularizers.l2(1e-4))) ##\n",
        "  model.add(layers.Dense(1))\n",
        "  model.compile(optimizer='rmsprop', loss='mse', metrics=['mae'])"
      ],
      "execution_count": 35,
      "outputs": []
    },
    {
      "cell_type": "code",
      "metadata": {
        "id": "q8e_MZwMwf_O",
        "colab_type": "code",
        "colab": {
          "base_uri": "https://localhost:8080/",
          "height": 364
        },
        "outputId": "6b8ff9af-88be-49d8-a5dc-3b0deb256550"
      },
      "source": [
        "history = model.fit(X_train, y_train,\n",
        "                        validation_data=(X_test, y_test),\n",
        "                        epochs= 10, batch_size=1, verbose=1)\n",
        "\n"
      ],
      "execution_count": 36,
      "outputs": [
        {
          "output_type": "stream",
          "text": [
            "Epoch 1/10\n",
            "19114/19114 [==============================] - 31s 2ms/step - loss: 4602.9653 - mae: 44.4784 - val_loss: 4130.8721 - val_mae: 42.4521\n",
            "Epoch 2/10\n",
            "19114/19114 [==============================] - 31s 2ms/step - loss: 4204.8989 - mae: 42.2955 - val_loss: 4118.4443 - val_mae: 41.8463\n",
            "Epoch 3/10\n",
            "19114/19114 [==============================] - 31s 2ms/step - loss: 4189.6309 - mae: 42.1794 - val_loss: 4076.5381 - val_mae: 41.8309\n",
            "Epoch 4/10\n",
            "19114/19114 [==============================] - 31s 2ms/step - loss: 4171.0903 - mae: 41.8965 - val_loss: 4106.4551 - val_mae: 40.8633\n",
            "Epoch 5/10\n",
            "19114/19114 [==============================] - 30s 2ms/step - loss: 4159.3804 - mae: 41.7443 - val_loss: 4056.5015 - val_mae: 42.2939\n",
            "Epoch 6/10\n",
            "19114/19114 [==============================] - 31s 2ms/step - loss: 4186.5186 - mae: 41.8735 - val_loss: 4169.0474 - val_mae: 41.1127\n",
            "Epoch 7/10\n",
            "19114/19114 [==============================] - 32s 2ms/step - loss: 4183.7700 - mae: 41.9313 - val_loss: 4106.9189 - val_mae: 41.9128\n",
            "Epoch 8/10\n",
            "19114/19114 [==============================] - 31s 2ms/step - loss: 4183.5171 - mae: 41.9691 - val_loss: 4112.9434 - val_mae: 42.4204\n",
            "Epoch 9/10\n",
            "19114/19114 [==============================] - 32s 2ms/step - loss: 4194.5771 - mae: 41.9535 - val_loss: 4128.8950 - val_mae: 41.9221\n",
            "Epoch 10/10\n",
            "19114/19114 [==============================] - 31s 2ms/step - loss: 4204.5366 - mae: 42.0561 - val_loss: 4181.2539 - val_mae: 40.8058\n"
          ],
          "name": "stdout"
        }
      ]
    },
    {
      "cell_type": "code",
      "metadata": {
        "id": "_VD_ujPJ6SAb",
        "colab_type": "code",
        "colab": {}
      },
      "source": [
        "mse, mae = model.evaluate(X_test, y_test, verbose=0)"
      ],
      "execution_count": 37,
      "outputs": []
    },
    {
      "cell_type": "code",
      "metadata": {
        "id": "FFTJ2mxVy4Rt",
        "colab_type": "code",
        "colab": {
          "base_uri": "https://localhost:8080/",
          "height": 35
        },
        "outputId": "1bb1c193-3a0e-4708-81ad-6e614d5ba592"
      },
      "source": [
        "print(mae)\n"
      ],
      "execution_count": 38,
      "outputs": [
        {
          "output_type": "stream",
          "text": [
            "40.80584716796875\n"
          ],
          "name": "stdout"
        }
      ]
    },
    {
      "cell_type": "markdown",
      "metadata": {
        "id": "XZgMJWNoTdBy",
        "colab_type": "text"
      },
      "source": [
        "Mean average error is high, it is possible that for some cases the error is very high but as seen in histogram below most errors are less than 15"
      ]
    },
    {
      "cell_type": "code",
      "metadata": {
        "id": "vvYXQQ6T5vTV",
        "colab_type": "code",
        "colab": {}
      },
      "source": [
        "y_pred = model.predict(X_test)\n",
        "y_actual = np.array(y_test)\n",
        "error = abs(y_actual - y_pred.reshape(-1) )\n"
      ],
      "execution_count": 39,
      "outputs": []
    },
    {
      "cell_type": "code",
      "metadata": {
        "id": "aIRRIyJzB9Nu",
        "colab_type": "code",
        "colab": {
          "base_uri": "https://localhost:8080/",
          "height": 297
        },
        "outputId": "f0b90060-2825-4ed8-eb8a-5ea2607eeb5c"
      },
      "source": [
        "fig, ax = plt.subplots()\n",
        "ax.hist(error, bins = np.linspace(0,200,21), density = True, align = 'mid', rwidth=0.8)\n",
        "ax.set_xlabel('Error')\n",
        "ax.set_ylabel('Rel Freq')\n",
        "ax1 = ax.twinx()\n",
        "ax1.hist(error, bins=np.linspace(0,200,21), histtype='step', color = 'r',  density = True, cumulative=True)\n",
        "ax1.set_ylabel('Cumulative')\n",
        "\n"
      ],
      "execution_count": 40,
      "outputs": [
        {
          "output_type": "execute_result",
          "data": {
            "text/plain": [
              "Text(0, 0.5, 'Cumulative')"
            ]
          },
          "metadata": {
            "tags": []
          },
          "execution_count": 40
        },
        {
          "output_type": "display_data",
          "data": {
            "image/png": "[encoded data removed]",
            "text/plain": [
              "<Figure size 432x288 with 2 Axes>"
            ]
          },
          "metadata": {
            "tags": [],
            "needs_background": "light"
          }
        }
      ]
    },
    {
      "cell_type": "markdown",
      "metadata": {
        "id": "zEWDUQoOHV5j",
        "colab_type": "text"
      },
      "source": [
        "Most errors are less than 15 USD"
      ]
    },
    {
      "cell_type": "markdown",
      "metadata": {
        "id": "2E19vp-RgG64",
        "colab_type": "text"
      },
      "source": [
        "**Attempting a simpler network with only 1 hidden layer and no regularization**\n"
      ]
    },
    {
      "cell_type": "code",
      "metadata": {
        "id": "k9jfo_JHgOdD",
        "colab_type": "code",
        "colab": {}
      },
      "source": [
        "model1 = models.Sequential()\n",
        "model1.add(layers.Dense(16, activation='relu', input_shape=(X_train.shape[1],)))\n",
        "model1.add(layers.Dense(16, activation='relu'))\n",
        "model1.add(layers.Dense(1))\n",
        "model1.compile(optimizer='rmsprop', loss='mse', metrics=['mae'])"
      ],
      "execution_count": 41,
      "outputs": []
    },
    {
      "cell_type": "code",
      "metadata": {
        "id": "2soLkn5Ggo_p",
        "colab_type": "code",
        "colab": {
          "base_uri": "https://localhost:8080/",
          "height": 364
        },
        "outputId": "cf5f81a0-f53e-4e76-c0f6-5226c5d58c95"
      },
      "source": [
        "history = model1.fit(X_train, y_train,\n",
        "                        validation_data=(X_test, y_test),\n",
        "                        epochs= 10, batch_size=1, verbose=1)"
      ],
      "execution_count": 42,
      "outputs": [
        {
          "output_type": "stream",
          "text": [
            "Epoch 1/10\n",
            "19114/19114 [==============================] - 28s 1ms/step - loss: 5145.2759 - mae: 46.8858 - val_loss: 4194.1196 - val_mae: 42.3624\n",
            "Epoch 2/10\n",
            "19114/19114 [==============================] - 28s 1ms/step - loss: 4200.0190 - mae: 42.1167 - val_loss: 4148.9360 - val_mae: 43.7628\n",
            "Epoch 3/10\n",
            "19114/19114 [==============================] - 28s 1ms/step - loss: 4179.4741 - mae: 41.9155 - val_loss: 4117.6475 - val_mae: 43.3472\n",
            "Epoch 4/10\n",
            "19114/19114 [==============================] - 28s 1ms/step - loss: 4164.5371 - mae: 41.8607 - val_loss: 4103.7036 - val_mae: 41.7739\n",
            "Epoch 5/10\n",
            "19114/19114 [==============================] - 28s 1ms/step - loss: 4150.1074 - mae: 41.6731 - val_loss: 4105.3413 - val_mae: 41.2440\n",
            "Epoch 6/10\n",
            "19114/19114 [==============================] - 28s 1ms/step - loss: 4135.9028 - mae: 41.5924 - val_loss: 4071.1235 - val_mae: 42.6906\n",
            "Epoch 7/10\n",
            "19114/19114 [==============================] - 28s 1ms/step - loss: 4123.7842 - mae: 41.4821 - val_loss: 4057.7671 - val_mae: 41.7664\n",
            "Epoch 8/10\n",
            "19114/19114 [==============================] - 28s 1ms/step - loss: 4124.3472 - mae: 41.5114 - val_loss: 4151.9136 - val_mae: 40.7607\n",
            "Epoch 9/10\n",
            "19114/19114 [==============================] - 30s 2ms/step - loss: 4134.3086 - mae: 41.5451 - val_loss: 4052.6628 - val_mae: 41.8397\n",
            "Epoch 10/10\n",
            "19114/19114 [==============================] - 28s 1ms/step - loss: 4128.0781 - mae: 41.4578 - val_loss: 4053.2239 - val_mae: 42.0415\n"
          ],
          "name": "stdout"
        }
      ]
    },
    {
      "cell_type": "code",
      "metadata": {
        "id": "LjgmZTOuhATm",
        "colab_type": "code",
        "colab": {
          "base_uri": "https://localhost:8080/",
          "height": 52
        },
        "outputId": "6607a35a-53a8-4b28-da50-87bb91681748"
      },
      "source": [
        "mse, mae = model1.evaluate(X_test, y_test, verbose=1)\n",
        "print(mae)"
      ],
      "execution_count": 43,
      "outputs": [
        {
          "output_type": "stream",
          "text": [
            "598/598 [==============================] - 1s 1ms/step - loss: 4053.2383 - mae: 42.0416\n",
            "42.041629791259766\n"
          ],
          "name": "stdout"
        }
      ]
    },
    {
      "cell_type": "code",
      "metadata": {
        "id": "SYFn0CQ-hFZP",
        "colab_type": "code",
        "colab": {}
      },
      "source": [
        "y_pred = model1.predict(X_test)\n",
        "y_actual = np.array(y_test)\n",
        "error = abs(y_actual - y_pred.reshape(-1) )"
      ],
      "execution_count": 44,
      "outputs": []
    },
    {
      "cell_type": "code",
      "metadata": {
        "id": "eLnspCLGhLhT",
        "colab_type": "code",
        "colab": {
          "base_uri": "https://localhost:8080/",
          "height": 297
        },
        "outputId": "adc65302-b5e5-4864-e27e-ef938353fb50"
      },
      "source": [
        "fig, ax = plt.subplots()\n",
        "ax.hist(error, bins = np.linspace(0,200,21), density = True, align = 'mid', rwidth=0.8)\n",
        "ax.set_xlabel('Error')\n",
        "ax.set_ylabel('Rel Freq')\n",
        "ax1 = ax.twinx()\n",
        "ax1.hist(error, bins=np.linspace(0,200,21), histtype='step', color = 'r',  density = True, cumulative=True)\n",
        "ax1.set_ylabel('Cumulative')"
      ],
      "execution_count": 45,
      "outputs": [
        {
          "output_type": "execute_result",
          "data": {
            "text/plain": [
              "Text(0, 0.5, 'Cumulative')"
            ]
          },
          "metadata": {
            "tags": []
          },
          "execution_count": 45
        },
        {
          "output_type": "display_data",
          "data": {
            "image/png": "[encoded data removed]",
            "text/plain": [
              "<Figure size 432x288 with 2 Axes>"
            ]
          },
          "metadata": {
            "tags": [],
            "needs_background": "light"
          }
        }
      ]
    },
    {
      "cell_type": "markdown",
      "metadata": {
        "id": "bkY8G3btiFQi",
        "colab_type": "text"
      },
      "source": [
        "Almost the same as in previous case, we will adopt simpler case"
      ]
    },
    {
      "cell_type": "markdown",
      "metadata": {
        "id": "6_dg4OhHiPJ4",
        "colab_type": "text"
      },
      "source": [
        "**Attemting simpler case with sigmoid activation function**"
      ]
    },
    {
      "cell_type": "code",
      "metadata": {
        "id": "bafYZLa5ibDS",
        "colab_type": "code",
        "colab": {}
      },
      "source": [
        "model2 = models.Sequential()\n",
        "model2.add(layers.Dense(16, activation='sigmoid', input_shape=(X_train.shape[1],)))\n",
        "model2.add(layers.Dense(16, activation='sigmoid'))\n",
        "model2.add(layers.Dense(1))\n",
        "model2.compile(optimizer='rmsprop', loss='mse', metrics=['mae'])"
      ],
      "execution_count": 46,
      "outputs": []
    },
    {
      "cell_type": "code",
      "metadata": {
        "id": "K4qGNrrhia2X",
        "colab_type": "code",
        "colab": {
          "base_uri": "https://localhost:8080/",
          "height": 364
        },
        "outputId": "8719f615-172b-441b-8097-b0b7a0909258"
      },
      "source": [
        "history = model2.fit(X_train, y_train,\n",
        "                        validation_data=(X_test, y_test),\n",
        "                        epochs= 10, batch_size=1, verbose=1)"
      ],
      "execution_count": 47,
      "outputs": [
        {
          "output_type": "stream",
          "text": [
            "Epoch 1/10\n",
            "19114/19114 [==============================] - 28s 1ms/step - loss: 10238.5215 - mae: 69.6412 - val_loss: 5632.0107 - val_mae: 46.8126\n",
            "Epoch 2/10\n",
            "19114/19114 [==============================] - 28s 1ms/step - loss: 4885.5078 - mae: 43.9793 - val_loss: 4450.8281 - val_mae: 42.6061\n",
            "Epoch 3/10\n",
            "19114/19114 [==============================] - 28s 1ms/step - loss: 4352.1890 - mae: 42.0294 - val_loss: 4273.4019 - val_mae: 41.8087\n",
            "Epoch 4/10\n",
            "19114/19114 [==============================] - 28s 1ms/step - loss: 4231.0264 - mae: 41.6485 - val_loss: 4234.4429 - val_mae: 41.0546\n",
            "Epoch 5/10\n",
            "19114/19114 [==============================] - 28s 1ms/step - loss: 4180.3057 - mae: 41.5592 - val_loss: 4137.2573 - val_mae: 42.1406\n",
            "Epoch 6/10\n",
            "19114/19114 [==============================] - 29s 2ms/step - loss: 4158.9111 - mae: 41.4334 - val_loss: 4127.5264 - val_mae: 42.4805\n",
            "Epoch 7/10\n",
            "19114/19114 [==============================] - 28s 1ms/step - loss: 4141.6675 - mae: 41.4690 - val_loss: 4192.0747 - val_mae: 40.7512\n",
            "Epoch 8/10\n",
            "19114/19114 [==============================] - 28s 1ms/step - loss: 4138.1997 - mae: 41.4092 - val_loss: 4157.3486 - val_mae: 40.9708\n",
            "Epoch 9/10\n",
            "19114/19114 [==============================] - 31s 2ms/step - loss: 4128.1079 - mae: 41.4100 - val_loss: 4111.4595 - val_mae: 41.8065\n",
            "Epoch 10/10\n",
            "19114/19114 [==============================] - 28s 1ms/step - loss: 4119.2993 - mae: 41.3818 - val_loss: 4097.5981 - val_mae: 41.7420\n"
          ],
          "name": "stdout"
        }
      ]
    },
    {
      "cell_type": "code",
      "metadata": {
        "id": "3Rn34MVNias_",
        "colab_type": "code",
        "colab": {
          "base_uri": "https://localhost:8080/",
          "height": 35
        },
        "outputId": "23b8404d-83f4-4241-b843-9b6626cb39cf"
      },
      "source": [
        "mse, mae = model2.evaluate(X_test, y_test, verbose=0)\n",
        "print(mae)"
      ],
      "execution_count": 48,
      "outputs": [
        {
          "output_type": "stream",
          "text": [
            "41.741943359375\n"
          ],
          "name": "stdout"
        }
      ]
    },
    {
      "cell_type": "code",
      "metadata": {
        "id": "Ak9B80_Qiagq",
        "colab_type": "code",
        "colab": {}
      },
      "source": [
        "y_pred = model2.predict(X_test)\n",
        "y_actual = np.array(y_test)\n",
        "error = abs(y_actual - y_pred.reshape(-1) )"
      ],
      "execution_count": 49,
      "outputs": []
    },
    {
      "cell_type": "code",
      "metadata": {
        "id": "iZGDExWNle1B",
        "colab_type": "code",
        "colab": {
          "base_uri": "https://localhost:8080/",
          "height": 297
        },
        "outputId": "3a2934f8-e81e-427b-deeb-02d5de8af121"
      },
      "source": [
        "fig, ax = plt.subplots()\n",
        "ax.hist(error, bins = np.linspace(0,200,21), density = True, align = 'mid', rwidth=0.8)\n",
        "ax.set_xlabel('Error')\n",
        "ax.set_ylabel('Rel Freq')\n",
        "ax1 = ax.twinx()\n",
        "ax1.hist(error, bins=np.linspace(0,200,21), histtype='step', color = 'r',  density = True, cumulative=True)\n",
        "ax1.set_ylabel('Cumulative')"
      ],
      "execution_count": 50,
      "outputs": [
        {
          "output_type": "execute_result",
          "data": {
            "text/plain": [
              "Text(0, 0.5, 'Cumulative')"
            ]
          },
          "metadata": {
            "tags": []
          },
          "execution_count": 50
        },
        {
          "output_type": "display_data",
          "data": {
            "image/png": "[encoded data removed]",
            "text/plain": [
              "<Figure size 432x288 with 2 Axes>"
            ]
          },
          "metadata": {
            "tags": [],
            "needs_background": "light"
          }
        }
      ]
    },
    {
      "cell_type": "markdown",
      "metadata": {
        "id": "BK5EcYlwlkR0",
        "colab_type": "text"
      },
      "source": [
        "No improvement is observed"
      ]
    },
    {
      "cell_type": "markdown",
      "metadata": {
        "id": "cMogj29imBg6",
        "colab_type": "text"
      },
      "source": [
        "**Attempting base case with higher density of layers**"
      ]
    },
    {
      "cell_type": "code",
      "metadata": {
        "id": "BnabL9IHl6uq",
        "colab_type": "code",
        "colab": {}
      },
      "source": [
        "  model3 = models.Sequential()\n",
        "  model3.add(layers.Dense(512, activation='relu', input_shape=(X_train.shape[1],)))\n",
        "  model3.add(layers.Dense(512, activation='relu',\n",
        "                         kernel_regularizer=regularizers.l1_l2(l1=1e-5, l2=1e-4),\n",
        "                          bias_regularizer=regularizers.l2(1e-4),\n",
        "                          activity_regularizer=regularizers.l2(1e-5)))\n",
        "  model3.add(layers.Dense(512, activation='relu',\n",
        "                         kernel_regularizer=regularizers.l1_l2(l1=1e-5, l2=1e-4),\n",
        "                        bias_regularizer=regularizers.l2(1e-4),\n",
        "                        activity_regularizer=regularizers.l2(1e-5))) ##\n",
        "  model3.add(layers.Dense(512, activation='relu',\n",
        "                         kernel_regularizer=regularizers.l1_l2(l1=1e-5, l2=1e-4),\n",
        "                        bias_regularizer=regularizers.l2(1e-4),\n",
        "                        activity_regularizer=regularizers.l2(1e-5))) ##\n",
        "  model3.add(layers.Dense(1))\n",
        "  model3.compile(optimizer='rmsprop', loss='mse', metrics=['mae'])"
      ],
      "execution_count": 51,
      "outputs": []
    },
    {
      "cell_type": "code",
      "metadata": {
        "id": "hkOYOnVMmO_Q",
        "colab_type": "code",
        "colab": {}
      },
      "source": [
        "history = model3.fit(X_train, y_train,\n",
        "                        validation_data=(X_test, y_test),\n",
        "                        epochs= 10, batch_size=1, verbose=1)"
      ],
      "execution_count": null,
      "outputs": []
    },
    {
      "cell_type": "code",
      "metadata": {
        "id": "hpPu0K_6wBm8",
        "colab_type": "code",
        "colab": {
          "base_uri": "https://localhost:8080/",
          "height": 35
        },
        "outputId": "08d2dff7-5f24-4e13-8fef-74e5afadef71"
      },
      "source": [
        "mse, mae = model3.evaluate(X_test, y_test, verbose=0)\n",
        "print(mae)"
      ],
      "execution_count": null,
      "outputs": [
        {
          "output_type": "stream",
          "text": [
            "33.18612289428711\n"
          ],
          "name": "stdout"
        }
      ]
    },
    {
      "cell_type": "code",
      "metadata": {
        "id": "hxXatZukwMb9",
        "colab_type": "code",
        "colab": {}
      },
      "source": [
        "y_pred = model3.predict(X_test)\n",
        "y_actual = np.array(y_test)\n",
        "error = abs(y_actual - y_pred.reshape(-1) )"
      ],
      "execution_count": null,
      "outputs": []
    },
    {
      "cell_type": "code",
      "metadata": {
        "id": "aCH9Lk7vwVq0",
        "colab_type": "code",
        "colab": {
          "base_uri": "https://localhost:8080/",
          "height": 297
        },
        "outputId": "b296f584-39c3-478d-96b5-2716bc51e21e"
      },
      "source": [
        "fig, ax = plt.subplots()\n",
        "ax.hist(error, bins = np.linspace(0,200,21), density = True, align = 'mid', rwidth=0.8)\n",
        "ax.set_xlabel('Error')\n",
        "ax.set_ylabel('Rel Freq')\n",
        "ax1 = ax.twinx()\n",
        "ax1.hist(error, bins=np.linspace(0,200,21), histtype='step', color = 'r',  density = True, cumulative=True)\n",
        "ax1.set_ylabel('Cumulative')"
      ],
      "execution_count": null,
      "outputs": [
        {
          "output_type": "execute_result",
          "data": {
            "text/plain": [
              "Text(0, 0.5, 'Cumulative')"
            ]
          },
          "metadata": {
            "tags": []
          },
          "execution_count": 212
        },
        {
          "output_type": "display_data",
          "data": {
            "image/png": "[encoded data removed]",
            "text/plain": [
              "<Figure size 432x288 with 2 Axes>"
            ]
          },
          "metadata": {
            "tags": [],
            "needs_background": "light"
          }
        }
      ]
    },
    {
      "cell_type": "markdown",
      "metadata": {
        "id": "sXJ92x59wYw-",
        "colab_type": "text"
      },
      "source": [
        "No improvement is observed. In the following section we will bin price into discrete categories and run a model to predict the range/bin"
      ]
    },
    {
      "cell_type": "markdown",
      "metadata": {
        "id": "tE_IEi9vwuOu",
        "colab_type": "text"
      },
      "source": [
        "**Binning/categorizing the dependent variable 'price'**"
      ]
    },
    {
      "cell_type": "code",
      "metadata": {
        "id": "aCpoa_2xxATv",
        "colab_type": "code",
        "colab": {}
      },
      "source": [
        "cut_prices = pd.qcut(y, q = 5, labels = ['very cheap', 'cheap', 'fair', 'expensive', 'very expensive'])"
      ],
      "execution_count": null,
      "outputs": []
    },
    {
      "cell_type": "code",
      "metadata": {
        "id": "0cMhjd6ARGWG",
        "colab_type": "code",
        "colab": {
          "base_uri": "https://localhost:8080/",
          "height": 256
        },
        "outputId": "c0c2efc4-3396-42bc-cfd9-7f40a43c656d"
      },
      "source": [
        "cut_prices"
      ],
      "execution_count": null,
      "outputs": [
        {
          "output_type": "execute_result",
          "data": {
            "text/plain": [
              "0             expensive\n",
              "1        very expensive\n",
              "3                  fair\n",
              "4                 cheap\n",
              "5        very expensive\n",
              "              ...      \n",
              "48782         expensive\n",
              "48790        very cheap\n",
              "48799    very expensive\n",
              "48805              fair\n",
              "48852        very cheap\n",
              "Name: price, Length: 36744, dtype: category\n",
              "Categories (5, object): [very cheap < cheap < fair < expensive < very expensive]"
            ]
          },
          "metadata": {
            "tags": []
          },
          "execution_count": 214
        }
      ]
    },
    {
      "cell_type": "code",
      "metadata": {
        "id": "kfD2oqquYRze",
        "colab_type": "code",
        "colab": {}
      },
      "source": [
        "cut_prices = pd.get_dummies(cut_prices)"
      ],
      "execution_count": null,
      "outputs": []
    },
    {
      "cell_type": "code",
      "metadata": {
        "id": "AaeeyE6OU08d",
        "colab_type": "code",
        "colab": {}
      },
      "source": [
        "X = pd.concat([df_num, df_categorical_dum],axis = 1)\n",
        "y1 = cut_prices"
      ],
      "execution_count": null,
      "outputs": []
    },
    {
      "cell_type": "code",
      "metadata": {
        "id": "Qs1_7l5YVcEc",
        "colab_type": "code",
        "colab": {}
      },
      "source": [
        "X_train, X_test, y_train, y_test = train_test_split(X, y1, test_size=0.5) # 50% training and 50% test"
      ],
      "execution_count": null,
      "outputs": []
    },
    {
      "cell_type": "code",
      "metadata": {
        "id": "e_YHr4oKVq5A",
        "colab_type": "code",
        "colab": {}
      },
      "source": [
        "from keras import models\n",
        "from keras import layers\n",
        "\n",
        "model4 = models.Sequential()\n",
        "model4.add(layers.Dense(64, activation='relu', input_shape=(X_train.shape[1],)))\n",
        "model4.add(layers.Dense(64, activation='relu', kernel_regularizer=regularizers.l1_l2(l1=1e-3, l2=1e-2),\n",
        "                          bias_regularizer=regularizers.l2(1e-2),\n",
        "                          activity_regularizer=regularizers.l2(1e-3) ))\n",
        "model4.add(layers.Dense(5, activation='softmax'))"
      ],
      "execution_count": null,
      "outputs": []
    },
    {
      "cell_type": "code",
      "metadata": {
        "id": "Z86nlHhpZ8ou",
        "colab_type": "code",
        "colab": {}
      },
      "source": [
        "model4.compile(optimizer='rmsprop',\n",
        "                loss='categorical_crossentropy',\n",
        "                metrics=['accuracy'])"
      ],
      "execution_count": null,
      "outputs": []
    },
    {
      "cell_type": "code",
      "metadata": {
        "id": "c9ZFOALEWxPE",
        "colab_type": "code",
        "colab": {
          "base_uri": "https://localhost:8080/",
          "height": 1000
        },
        "outputId": "fa61c687-fcba-42d9-8821-234d3931e6c0"
      },
      "source": [
        "history = model4.fit(X_train, y_train, epochs=100, batch_size=16)"
      ],
      "execution_count": null,
      "outputs": [
        {
          "output_type": "stream",
          "text": [
            "Epoch 1/100\n",
            "1149/1149 [==============================] - 1s 1ms/step - loss: 1.4191 - accuracy: 0.4328\n",
            "Epoch 2/100\n",
            "1149/1149 [==============================] - 1s 1ms/step - loss: 1.2518 - accuracy: 0.4553\n",
            "Epoch 3/100\n",
            "1149/1149 [==============================] - 1s 1ms/step - loss: 1.2346 - accuracy: 0.4576\n",
            "Epoch 4/100\n",
            "1149/1149 [==============================] - 1s 1ms/step - loss: 1.2263 - accuracy: 0.4587\n",
            "Epoch 5/100\n",
            "1149/1149 [==============================] - 1s 1ms/step - loss: 1.2204 - accuracy: 0.4626\n",
            "Epoch 6/100\n",
            "1149/1149 [==============================] - 1s 1ms/step - loss: 1.2168 - accuracy: 0.4657\n",
            "Epoch 7/100\n",
            "1149/1149 [==============================] - 1s 1ms/step - loss: 1.2132 - accuracy: 0.4621\n",
            "Epoch 8/100\n",
            "1149/1149 [==============================] - 1s 1ms/step - loss: 1.2094 - accuracy: 0.4678\n",
            "Epoch 9/100\n",
            "1149/1149 [==============================] - 1s 1ms/step - loss: 1.2062 - accuracy: 0.4704\n",
            "Epoch 10/100\n",
            "1149/1149 [==============================] - 1s 1ms/step - loss: 1.2065 - accuracy: 0.4732\n",
            "Epoch 11/100\n",
            "1149/1149 [==============================] - 1s 1ms/step - loss: 1.2043 - accuracy: 0.4715\n",
            "Epoch 12/100\n",
            "1149/1149 [==============================] - 1s 1ms/step - loss: 1.2012 - accuracy: 0.4710\n",
            "Epoch 13/100\n",
            "1149/1149 [==============================] - 1s 1ms/step - loss: 1.1998 - accuracy: 0.4731\n",
            "Epoch 14/100\n",
            "1149/1149 [==============================] - 1s 1ms/step - loss: 1.1992 - accuracy: 0.4759\n",
            "Epoch 15/100\n",
            "1149/1149 [==============================] - 1s 1ms/step - loss: 1.1976 - accuracy: 0.4703\n",
            "Epoch 16/100\n",
            "1149/1149 [==============================] - 1s 1ms/step - loss: 1.1956 - accuracy: 0.4728\n",
            "Epoch 17/100\n",
            "1149/1149 [==============================] - 1s 1ms/step - loss: 1.1961 - accuracy: 0.4714\n",
            "Epoch 18/100\n",
            "1149/1149 [==============================] - 1s 1ms/step - loss: 1.1948 - accuracy: 0.4751\n",
            "Epoch 19/100\n",
            "1149/1149 [==============================] - 1s 1ms/step - loss: 1.1939 - accuracy: 0.4749\n",
            "Epoch 20/100\n",
            "1149/1149 [==============================] - 2s 1ms/step - loss: 1.1936 - accuracy: 0.4730\n",
            "Epoch 21/100\n",
            "1149/1149 [==============================] - 2s 1ms/step - loss: 1.1935 - accuracy: 0.4738\n",
            "Epoch 22/100\n",
            "1149/1149 [==============================] - 2s 1ms/step - loss: 1.1924 - accuracy: 0.4753\n",
            "Epoch 23/100\n",
            "1149/1149 [==============================] - 2s 1ms/step - loss: 1.1909 - accuracy: 0.4750\n",
            "Epoch 24/100\n",
            "1149/1149 [==============================] - 1s 1ms/step - loss: 1.1917 - accuracy: 0.4761\n",
            "Epoch 25/100\n",
            "1149/1149 [==============================] - 1s 1ms/step - loss: 1.1904 - accuracy: 0.4750\n",
            "Epoch 26/100\n",
            "1149/1149 [==============================] - 2s 1ms/step - loss: 1.1912 - accuracy: 0.4760\n",
            "Epoch 27/100\n",
            "1149/1149 [==============================] - 2s 1ms/step - loss: 1.1888 - accuracy: 0.4762\n",
            "Epoch 28/100\n",
            "1149/1149 [==============================] - 2s 1ms/step - loss: 1.1897 - accuracy: 0.4737\n",
            "Epoch 29/100\n",
            "1149/1149 [==============================] - 2s 1ms/step - loss: 1.1890 - accuracy: 0.4741\n",
            "Epoch 30/100\n",
            "1149/1149 [==============================] - 2s 1ms/step - loss: 1.1890 - accuracy: 0.4768\n",
            "Epoch 31/100\n",
            "1149/1149 [==============================] - 2s 1ms/step - loss: 1.1887 - accuracy: 0.4749\n",
            "Epoch 32/100\n",
            "1149/1149 [==============================] - 1s 1ms/step - loss: 1.1877 - accuracy: 0.4749\n",
            "Epoch 33/100\n",
            "1149/1149 [==============================] - 1s 1ms/step - loss: 1.1880 - accuracy: 0.4733\n",
            "Epoch 34/100\n",
            "1149/1149 [==============================] - 1s 1ms/step - loss: 1.1873 - accuracy: 0.4774\n",
            "Epoch 35/100\n",
            "1149/1149 [==============================] - 1s 1ms/step - loss: 1.1875 - accuracy: 0.4740\n",
            "Epoch 36/100\n",
            "1149/1149 [==============================] - 1s 1ms/step - loss: 1.1879 - accuracy: 0.4745\n",
            "Epoch 37/100\n",
            "1149/1149 [==============================] - 1s 1ms/step - loss: 1.1862 - accuracy: 0.4764\n",
            "Epoch 38/100\n",
            "1149/1149 [==============================] - 1s 1ms/step - loss: 1.1866 - accuracy: 0.4771\n",
            "Epoch 39/100\n",
            "1149/1149 [==============================] - 1s 1ms/step - loss: 1.1874 - accuracy: 0.4740\n",
            "Epoch 40/100\n",
            "1149/1149 [==============================] - 1s 1ms/step - loss: 1.1864 - accuracy: 0.4768\n",
            "Epoch 41/100\n",
            "1149/1149 [==============================] - 1s 1ms/step - loss: 1.1862 - accuracy: 0.4761\n",
            "Epoch 42/100\n",
            "1149/1149 [==============================] - 1s 1ms/step - loss: 1.1861 - accuracy: 0.4772\n",
            "Epoch 43/100\n",
            "1149/1149 [==============================] - 1s 1ms/step - loss: 1.1862 - accuracy: 0.4769\n",
            "Epoch 44/100\n",
            "1149/1149 [==============================] - 1s 1ms/step - loss: 1.1854 - accuracy: 0.4765\n",
            "Epoch 45/100\n",
            "1149/1149 [==============================] - 1s 1ms/step - loss: 1.1859 - accuracy: 0.4769\n",
            "Epoch 46/100\n",
            "1149/1149 [==============================] - 1s 1ms/step - loss: 1.1861 - accuracy: 0.4759\n",
            "Epoch 47/100\n",
            "1149/1149 [==============================] - 1s 1ms/step - loss: 1.1857 - accuracy: 0.4777\n",
            "Epoch 48/100\n",
            "1149/1149 [==============================] - 1s 1ms/step - loss: 1.1855 - accuracy: 0.4746\n",
            "Epoch 49/100\n",
            "1149/1149 [==============================] - 1s 1ms/step - loss: 1.1848 - accuracy: 0.4807\n",
            "Epoch 50/100\n",
            "1149/1149 [==============================] - 1s 1ms/step - loss: 1.1843 - accuracy: 0.4775\n",
            "Epoch 51/100\n",
            "1149/1149 [==============================] - 1s 1ms/step - loss: 1.1853 - accuracy: 0.4765\n",
            "Epoch 52/100\n",
            "1149/1149 [==============================] - 1s 1ms/step - loss: 1.1846 - accuracy: 0.4752\n",
            "Epoch 53/100\n",
            "1149/1149 [==============================] - 1s 1ms/step - loss: 1.1835 - accuracy: 0.4795\n",
            "Epoch 54/100\n",
            "1149/1149 [==============================] - 1s 1ms/step - loss: 1.1843 - accuracy: 0.4784\n",
            "Epoch 55/100\n",
            "1149/1149 [==============================] - 1s 1ms/step - loss: 1.1839 - accuracy: 0.4783\n",
            "Epoch 56/100\n",
            "1149/1149 [==============================] - 1s 1ms/step - loss: 1.1848 - accuracy: 0.4770\n",
            "Epoch 57/100\n",
            "1149/1149 [==============================] - 1s 1ms/step - loss: 1.1847 - accuracy: 0.4757\n",
            "Epoch 58/100\n",
            "1149/1149 [==============================] - 1s 1ms/step - loss: 1.1851 - accuracy: 0.4755\n",
            "Epoch 59/100\n",
            "1149/1149 [==============================] - 1s 1ms/step - loss: 1.1838 - accuracy: 0.4769\n",
            "Epoch 60/100\n",
            "1149/1149 [==============================] - 1s 1ms/step - loss: 1.1840 - accuracy: 0.4782\n",
            "Epoch 61/100\n",
            "1149/1149 [==============================] - 1s 1ms/step - loss: 1.1831 - accuracy: 0.4801\n",
            "Epoch 62/100\n",
            "1149/1149 [==============================] - 1s 1ms/step - loss: 1.1845 - accuracy: 0.4796\n",
            "Epoch 63/100\n",
            "1149/1149 [==============================] - 1s 1ms/step - loss: 1.1840 - accuracy: 0.4826\n",
            "Epoch 64/100\n",
            "1149/1149 [==============================] - 1s 1ms/step - loss: 1.1838 - accuracy: 0.4795\n",
            "Epoch 65/100\n",
            "1149/1149 [==============================] - 1s 1ms/step - loss: 1.1846 - accuracy: 0.4805\n",
            "Epoch 66/100\n",
            "1149/1149 [==============================] - 1s 1ms/step - loss: 1.1837 - accuracy: 0.4776\n",
            "Epoch 67/100\n",
            "1149/1149 [==============================] - 1s 1ms/step - loss: 1.1840 - accuracy: 0.4787\n",
            "Epoch 68/100\n",
            "1149/1149 [==============================] - 1s 1ms/step - loss: 1.1840 - accuracy: 0.4798\n",
            "Epoch 69/100\n",
            "1149/1149 [==============================] - 1s 1ms/step - loss: 1.1845 - accuracy: 0.4797\n",
            "Epoch 70/100\n",
            "1149/1149 [==============================] - 1s 1ms/step - loss: 1.1837 - accuracy: 0.4802\n",
            "Epoch 71/100\n",
            "1149/1149 [==============================] - 1s 1ms/step - loss: 1.1838 - accuracy: 0.4800\n",
            "Epoch 72/100\n",
            "1149/1149 [==============================] - 1s 1ms/step - loss: 1.1830 - accuracy: 0.4802\n",
            "Epoch 73/100\n",
            "1149/1149 [==============================] - 1s 1ms/step - loss: 1.1838 - accuracy: 0.4779\n",
            "Epoch 74/100\n",
            "1149/1149 [==============================] - 1s 1ms/step - loss: 1.1840 - accuracy: 0.4760\n",
            "Epoch 75/100\n",
            "1149/1149 [==============================] - 1s 1ms/step - loss: 1.1841 - accuracy: 0.4800\n",
            "Epoch 76/100\n",
            "1149/1149 [==============================] - 1s 1ms/step - loss: 1.1837 - accuracy: 0.4805\n",
            "Epoch 77/100\n",
            "1149/1149 [==============================] - 1s 1ms/step - loss: 1.1833 - accuracy: 0.4812\n",
            "Epoch 78/100\n",
            "1149/1149 [==============================] - 1s 1ms/step - loss: 1.1843 - accuracy: 0.4798\n",
            "Epoch 79/100\n",
            "1149/1149 [==============================] - 1s 1ms/step - loss: 1.1847 - accuracy: 0.4798\n",
            "Epoch 80/100\n",
            "1149/1149 [==============================] - 1s 1ms/step - loss: 1.1847 - accuracy: 0.4801\n",
            "Epoch 81/100\n",
            "1149/1149 [==============================] - 1s 1ms/step - loss: 1.1844 - accuracy: 0.4781\n",
            "Epoch 82/100\n",
            "1149/1149 [==============================] - 1s 1ms/step - loss: 1.1839 - accuracy: 0.4766\n",
            "Epoch 83/100\n",
            "1149/1149 [==============================] - 1s 1ms/step - loss: 1.1842 - accuracy: 0.4835\n",
            "Epoch 84/100\n",
            "1149/1149 [==============================] - 1s 1ms/step - loss: 1.1845 - accuracy: 0.4839\n",
            "Epoch 85/100\n",
            "1149/1149 [==============================] - 1s 1ms/step - loss: 1.1839 - accuracy: 0.4798\n",
            "Epoch 86/100\n",
            "1149/1149 [==============================] - 1s 1ms/step - loss: 1.1836 - accuracy: 0.4784\n",
            "Epoch 87/100\n",
            "1149/1149 [==============================] - 1s 1ms/step - loss: 1.1836 - accuracy: 0.4786\n",
            "Epoch 88/100\n",
            "1149/1149 [==============================] - 1s 1ms/step - loss: 1.1844 - accuracy: 0.4804\n",
            "Epoch 89/100\n",
            "1149/1149 [==============================] - 1s 1ms/step - loss: 1.1844 - accuracy: 0.4784\n",
            "Epoch 90/100\n",
            "1149/1149 [==============================] - 1s 1ms/step - loss: 1.1840 - accuracy: 0.4804\n",
            "Epoch 91/100\n",
            "1149/1149 [==============================] - 1s 1ms/step - loss: 1.1843 - accuracy: 0.4792\n",
            "Epoch 92/100\n",
            "1149/1149 [==============================] - 1s 1ms/step - loss: 1.1860 - accuracy: 0.4802\n",
            "Epoch 93/100\n",
            "1149/1149 [==============================] - 1s 1ms/step - loss: 1.1851 - accuracy: 0.4812\n",
            "Epoch 94/100\n",
            "1149/1149 [==============================] - 1s 1ms/step - loss: 1.1849 - accuracy: 0.4803\n",
            "Epoch 95/100\n",
            "1149/1149 [==============================] - 1s 1ms/step - loss: 1.1848 - accuracy: 0.4789\n",
            "Epoch 96/100\n",
            "1149/1149 [==============================] - 1s 1ms/step - loss: 1.1840 - accuracy: 0.4811\n",
            "Epoch 97/100\n",
            "1149/1149 [==============================] - 1s 1ms/step - loss: 1.1855 - accuracy: 0.4807\n",
            "Epoch 98/100\n",
            "1149/1149 [==============================] - 1s 1ms/step - loss: 1.1852 - accuracy: 0.4798\n",
            "Epoch 99/100\n",
            "1149/1149 [==============================] - 1s 1ms/step - loss: 1.1837 - accuracy: 0.4796\n",
            "Epoch 100/100\n",
            "1149/1149 [==============================] - 1s 1ms/step - loss: 1.1866 - accuracy: 0.4788\n"
          ],
          "name": "stdout"
        }
      ]
    },
    {
      "cell_type": "code",
      "metadata": {
        "id": "bWaGCNj-bU7l",
        "colab_type": "code",
        "colab": {
          "base_uri": "https://localhost:8080/",
          "height": 35
        },
        "outputId": "d27bf5e5-7ba9-48b6-e598-e65be4c3f323"
      },
      "source": [
        "test_loss, test_acc = model4.evaluate(X_test, y_test)"
      ],
      "execution_count": null,
      "outputs": [
        {
          "output_type": "stream",
          "text": [
            "575/575 [==============================] - 1s 921us/step - loss: 1.2068 - accuracy: 0.4746\n"
          ],
          "name": "stdout"
        }
      ]
    },
    {
      "cell_type": "markdown",
      "metadata": {
        "id": "Ze-ohGyXfG1p",
        "colab_type": "text"
      },
      "source": [
        "We only obtain an accuracy of about 47.5%. This is better than 20% expected by chance alone, however we consider it to be very poor"
      ]
    },
    {
      "cell_type": "code",
      "metadata": {
        "id": "12XCyMP55PmS",
        "colab_type": "code",
        "colab": {}
      },
      "source": [
        ""
      ],
      "execution_count": null,
      "outputs": []
    }
  ]
}